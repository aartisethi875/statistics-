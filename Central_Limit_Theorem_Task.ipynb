{
  "nbformat": 4,
  "nbformat_minor": 0,
  "metadata": {
    "colab": {
      "provenance": []
    },
    "kernelspec": {
      "name": "python3",
      "display_name": "Python 3"
    },
    "language_info": {
      "name": "python"
    }
  },
  "cells": [
    {
      "cell_type": "markdown",
      "source": [
        "\n",
        "1. A company claims that their email marketing campaign has a 15% click-through rate. If you randomly select 100 people to receive the email, what is the probability that exactly 20 will click through to the website?\n",
        "2. A researcher is investigating whether a new medication improves patient outcomes. The medication has a success rate of 75%. If the researcher enrolls 50 patients in the study, what is the probability that fewer than 35 will have a positive outcome?\n",
        "\n",
        "3. A website offers a premium subscription service with a 20% sign-up rate. If you randomly select 500 visitors to the website, what is the probability that between 90 and 110 will sign up for the premium service?\n",
        "\n",
        "4. A school district is investigating the effectiveness of a new reading program. The program has a success rate of 70%. If the district enrolls 200 students in the program, what is the probability that more than 140 will show significant improvement in reading skills?\n",
        "\n",
        "\n",
        "5. A factory produces electronic components with a defect rate of 5%. If a shipment of 200 components is sent out, what is the probability that fewer than 10 will be defective?\n",
        "\n",
        "6. A survey shows that 70% of people prefer chocolate ice cream over vanilla ice cream. If you randomly survey one person, what is the probability that they prefer vanilla ice cream?\n",
        "\n",
        "\n",
        "7. A software company releases a new product with a bug rate of 2%. If 10,000 copies of the product are sold, what is the probability that at least 250 will have a bug?\n",
        "\n",
        "8. According to data from the National Center for Health Statistics (NCHS), the average height for adult men aged 20 years and over in the United States is approximately 69.2 inches with a standard deviation of approximately 2.9 inches. If you randomly select a sample of 50 adult men aged 20 years and over, what is the probability that the sample mean height is greater than 70 inches?\n",
        "\n",
        "\n",
        "Central Limit Theorem:\n",
        "9. A company claims that the average salary of its employees is 75,000 with a standard deviation of 10,000. If you randomly select 100 employees, what is the probability that the sample mean salary is less than 72,500?\n",
        "\n",
        "10. A restaurant claims that the average wait time for a table is 15 minutes with a standard deviation of 3 minutes. If you randomly survey 50 customers, what is the probability that the sample mean wait time is greater than 16 minutes?\n",
        "Bernoulli Distribution:\n"
      ],
      "metadata": {
        "id": "hBXuBYxP66dT"
      }
    },
    {
      "cell_type": "code",
      "source": [
        "# Solutions"
      ],
      "metadata": {
        "id": "uwNn2Pdq6-Kg"
      },
      "execution_count": 11,
      "outputs": []
    },
    {
      "cell_type": "markdown",
      "source": [
        "`Q-1` A company claims that their email marketing campaign has a 15% click-through rate. If you randomly select 100 people to receive the email, what is the probability that exactly 20 will click through to the website?\n",
        "\n"
      ],
      "metadata": {
        "id": "lWeHrGcNc77G"
      }
    },
    {
      "cell_type": "markdown",
      "source": [
        "### Solution - 1\n",
        "\n",
        "This is a binomial probability problem. The probability of exactly 20 people clicking through to the website out of 100 people who received the email can be calculated using the binomial formula: \n",
        "\n",
        "`P(X=k) = (n choose k) * p^k * (1-p)^(n-k)`\n",
        "\n",
        "where n is the number of trials (100 in this case), k is the number of successes (20 in this case), and p is the probability of success on a single trial (0.15 in this case).\n",
        "\n",
        "Substituting these values into the formula, we get:\n",
        "\n",
        "P(X=20) = (100 choose 20) * 0.15^20 * 0.85^80 ≈ 0.04\n",
        "\n",
        "So, the probability that exactly 20 out of 100 people will click through to the website is approximately 0.04 or about 4%."
      ],
      "metadata": {
        "id": "zqSPTi8pGajL"
      }
    },
    {
      "cell_type": "code",
      "source": [
        "import numpy as np\n",
        "from scipy.stats import binom\n",
        "from scipy.special import comb\n",
        "\n",
        "n = 100\n",
        "p = 0.15\n",
        "k = 20\n",
        "\n",
        "prob = binom.pmf(k, n, p)\n",
        "print(prob)\n",
        "\n",
        "\n",
        "# P(X=20) = (100 choose 20) * 0.15^20 * 0.85^80\n",
        "result = comb(n, k, exact=True) * ((p)**k) * (1-p)**(n-k)\n",
        "print(result)"
      ],
      "metadata": {
        "colab": {
          "base_uri": "https://localhost:8080/"
        },
        "id": "aY75mNqb_2y3",
        "outputId": "674af6bd-675a-44aa-88d5-5f27ce07872f"
      },
      "execution_count": 12,
      "outputs": [
        {
          "output_type": "stream",
          "name": "stdout",
          "text": [
            "0.04022449066141772\n",
            "0.04022449066141756\n"
          ]
        }
      ]
    },
    {
      "cell_type": "markdown",
      "source": [
        "`Q-2`. A researcher is investigating whether a new medication improves patient outcomes. The medication has a success rate of 75%. If the researcher enrolls 50 patients in the study, what is the probability that fewer than 35 will have a positive outcome?\n",
        "\n"
      ],
      "metadata": {
        "id": "2eusRCp0dEBD"
      }
    },
    {
      "cell_type": "markdown",
      "source": [
        "### Solution 2:\n",
        "This is another binomial probability problem. The probability of fewer than 35 patients having a positive outcome out of 50 patients enrolled in the study can be calculated using the cumulative distribution function (CDF) of the binomial distribution.\n",
        "\n",
        "`P(X ≤ k) = ∑[i=0 to k] (n choose i) * p^i * (1-p)^(n-i)`\n",
        "\n",
        "The CDF gives the probability that the number of successes in n independent trials is less than or equal to a given value k. In this case, n is the number of patients enrolled in the study (50), k is the maximum number of patients with a positive outcome (34), and p is the probability of success on a single trial (0.75).\n",
        "\n",
        "Here’s a Python code snippet that uses the scipy.stats.binom module to calculate this probability:\n",
        "\n"
      ],
      "metadata": {
        "id": "r8BbbiWTJH7b"
      }
    },
    {
      "cell_type": "code",
      "source": [
        "from scipy.stats import binom\n",
        "from scipy.special import comb\n",
        "\n",
        "n = 50\n",
        "p = 0.75\n",
        "k = 34\n",
        "\n",
        "prob = binom.cdf(k, n, p)\n",
        "print(prob)\n",
        "\n",
        "# P(X ≤ k) = ∑[i=0 to k] (n choose i) * p^i * (1-p)^(n-i)\n",
        "result=0\n",
        "for i in range(k+1):\n",
        "    result += comb(n, i, exact=True) * ((p)**i) * (1-p)**(n-i)\n",
        "print(result)"
      ],
      "metadata": {
        "colab": {
          "base_uri": "https://localhost:8080/"
        },
        "id": "gBkbzr_vJpBw",
        "outputId": "3ddeb555-e014-4ea6-a2d7-cc9e098502f7"
      },
      "execution_count": 13,
      "outputs": [
        {
          "output_type": "stream",
          "name": "stdout",
          "text": [
            "0.16308327146260387\n",
            "0.16308327146260382\n"
          ]
        }
      ]
    },
    {
      "cell_type": "markdown",
      "source": [
        "`Q-3`. A website offers a premium subscription service with a 20% sign-up rate. If you randomly select 500 visitors to the website, what is the probability that between 90 and 110 will sign up for the premium service?\n",
        "\n"
      ],
      "metadata": {
        "id": "ehG5Nf0sdI0i"
      }
    },
    {
      "cell_type": "markdown",
      "source": [
        "### Solution 3:\n",
        "\n",
        "\n",
        "This is another binomial probability problem. The probability of between 90 and 110 visitors signing up for the premium service out of 500 visitors to the website can be calculated using the cumulative distribution function (CDF) of the binomial distribution.\n",
        "\n",
        "The CDF gives the probability that the number of successes in `n` independent trials is less than or equal to a given value `k`. In this case, `n` is the number of visitors to the website (500), `k1` is the minimum number of visitors who sign up for the premium service (90), `k2` is the maximum number of visitors who sign up for the premium service (110), and `p` is the probability of success on a single trial (0.20).\n",
        "\n",
        "The probability that between `k1` and `k2` visitors will sign up for the premium service out of `n` visitors to the website can be calculated as:\n",
        "\n",
        "`P(k1 ≤ X ≤ k2) = P(X ≤ k2) - P(X < k1) = F(k2) - F(k1-1)`\n",
        "\n",
        "where F(k) is the CDF of the binomial distribution with parameters `n` and `p` at `k`.\n",
        "\n",
        "Here's a Python code snippet that uses the `scipy.stats.binom` module to calculate this probability:\n",
        "\n"
      ],
      "metadata": {
        "id": "tRRvZeVBKt-L"
      }
    },
    {
      "cell_type": "code",
      "source": [
        "from scipy.stats import binom\n",
        "from scipy.special import comb\n",
        "\n",
        "\n",
        "n = 500\n",
        "p = 0.20\n",
        "k1 = 90\n",
        "k2 = 110\n",
        "\n",
        "prob = binom.cdf(k2, n, p) - binom.cdf(k1-1, n, p)\n",
        "print(prob)\n",
        "\n",
        "def pxeqlessthank(k, n, p):\n",
        "    result=0\n",
        "    for i in range(k+1):\n",
        "        result += comb(n, i, exact=True) * ((p)**i) * (1-p)**(n-i)\n",
        "    return result\n",
        "\n",
        "# P(k1 ≤ X ≤ k2) = P(X ≤ k2) - P(X < k1) = F(k2) - F(k1-1)\n",
        "print(pxeqlessthank(k2, n, p)-pxeqlessthank(k1-1, n, p))"
      ],
      "metadata": {
        "colab": {
          "base_uri": "https://localhost:8080/"
        },
        "id": "2aicj5xlLFR8",
        "outputId": "6a997d32-c44d-4073-86fc-d0dd0c687700"
      },
      "execution_count": 14,
      "outputs": [
        {
          "output_type": "stream",
          "name": "stdout",
          "text": [
            "0.7597481607851574\n",
            "0.7597481607851779\n"
          ]
        }
      ]
    },
    {
      "cell_type": "markdown",
      "source": [
        "\n",
        "`Q-4` A school district is investigating the effectiveness of a new reading program. The program has a success rate of 70%. If the district enrolls 200 students in the program, what is the probability that more than 140 will show significant improvement in reading skills?\n",
        "\n"
      ],
      "metadata": {
        "id": "NoSXVoEvdNjT"
      }
    },
    {
      "cell_type": "markdown",
      "source": [
        "### Solution 4:\n",
        "\n",
        "This is another binomial probability problem. The probability of more than 140 students showing significant improvement in reading skills out of 200 students enrolled in the program can be calculated using the cumulative distribution function (CDF) of the binomial distribution.\n",
        "\n",
        "The CDF gives the probability that the number of successes in `n` independent trials is less than or equal to a given value `k`. In this case, `n` is the number of students enrolled in the program (200), `k` is the maximum number of students who do not show significant improvement in reading skills (59), and `p` is the probability of success on a single trial (0.70).\n",
        "\n",
        "The probability that more than `k` students will show significant improvement in reading skills out of `n` students enrolled in the program can be calculated as:\n",
        "\n",
        "`P(X > k) = 1 - P(X ≤ k) = 1 - F(k)`\n",
        "\n",
        "where F(k) is the CDF of the binomial distribution with parameters `n` and `p` at `k`.\n",
        "\n",
        "Here's a Python code snippet that uses the `scipy.stats.binom` module to calculate this probability:\n",
        "\n",
        "\n",
        "\n"
      ],
      "metadata": {
        "id": "2f6t-e0bMfEC"
      }
    },
    {
      "cell_type": "code",
      "source": [
        "from scipy.stats import binom\n",
        "\n",
        "n = 200\n",
        "p = 0.70\n",
        "k = 140\n",
        "\n",
        "prob = 1 - binom.cdf(k, n, p)\n",
        "print(prob)\n",
        "\n",
        "# P(X > k) = 1 - P(X ≤ k) = 1 - F(k)\n",
        "print(1 - pxeqlessthank(k, n, p))"
      ],
      "metadata": {
        "colab": {
          "base_uri": "https://localhost:8080/"
        },
        "id": "nmnD02X4Mn60",
        "outputId": "660ae016-9212-424a-fbea-a0777c702dba"
      },
      "execution_count": 15,
      "outputs": [
        {
          "output_type": "stream",
          "name": "stdout",
          "text": [
            "0.4733474593659296\n",
            "0.47334745936592904\n"
          ]
        }
      ]
    },
    {
      "cell_type": "markdown",
      "source": [
        "`Q-5`. A factory produces electronic components with a defect rate of 5%. If a shipment of 200 components is sent out, what is the probability that fewer than 10 will be defective?\n",
        "\n"
      ],
      "metadata": {
        "id": "wR1TjjC8dVZS"
      }
    },
    {
      "cell_type": "markdown",
      "source": [
        "### Solution 5:\n",
        "\n",
        "The CDF gives the probability that the number of successes in `n` independent trials is less than or equal to a given value `k`. In this case, `n` is the number of components in the shipment (200), `k` is the maximum number of defective components (9), and `p` is the probability of success on a single trial (0.05).\n",
        "\n",
        "Here's a Python code snippet that uses the `scipy.stats.binom` module to calculate this probability:\n",
        "\n"
      ],
      "metadata": {
        "id": "QEDxudCNNMnU"
      }
    },
    {
      "cell_type": "code",
      "source": [
        "from scipy.stats import binom\n",
        "\n",
        "n = 200\n",
        "p = 0.05\n",
        "k = 9\n",
        "\n",
        "prob = binom.cdf(k, n, p)\n",
        "print(prob)\n"
      ],
      "metadata": {
        "colab": {
          "base_uri": "https://localhost:8080/"
        },
        "id": "guV86CocTxcx",
        "outputId": "ae1d3ab5-bc89-4686-8028-8d023c8fa4a2"
      },
      "execution_count": 16,
      "outputs": [
        {
          "output_type": "stream",
          "name": "stdout",
          "text": [
            "0.45470980868081556\n"
          ]
        }
      ]
    },
    {
      "cell_type": "markdown",
      "source": [
        "`Q-6`. A survey shows that 70% of people prefer chocolate ice cream over vanilla ice cream. If you randomly survey one person, what is the probability that they prefer vanilla ice cream?\n",
        "\n"
      ],
      "metadata": {
        "id": "lR1vah03daRd"
      }
    },
    {
      "cell_type": "markdown",
      "source": [
        "### Solution 6:\n",
        "This is a Bernoulli trial with p = 0.7. The probability of the person preferring vanilla ice cream is 1 - p = 0.3."
      ],
      "metadata": {
        "id": "HOEtwQj3T2YY"
      }
    },
    {
      "cell_type": "markdown",
      "source": [
        "\n",
        "`Q-7`. A software company releases a new product with a bug rate of 2%. If 10,000 copies of the product are sold, what is the probability that at least 250 will have a bug?\n",
        "\n"
      ],
      "metadata": {
        "id": "qyGcAxOadl6g"
      }
    },
    {
      "cell_type": "markdown",
      "source": [
        "### Solution 7:\n"
      ],
      "metadata": {
        "id": "_rzvdqSGdquD"
      }
    },
    {
      "cell_type": "markdown",
      "source": [
        "`Q-8` According to data from the National Center for Health Statistics (NCHS), the average height for adult men aged 20 years and over in the United States is approximately 69.2 inches with a standard deviation of approximately 2.9 inches. If you randomly select a sample of 50 adult men aged 20 years and over, what is the probability that the sample mean height is greater than 70 inches?\n",
        "\n"
      ],
      "metadata": {
        "id": "dhAKSwB1dttv"
      }
    },
    {
      "cell_type": "markdown",
      "source": [
        "### Solution 8: \n",
        "This is a problem that can be solved using the central limit theorem. The central limit theorem states that the distribution of sample means approaches a normal distribution as the sample size increases, regardless of the shape of the population distribution.\n",
        "\n",
        "In this case, we are given that the population mean height is 69.2 inches and the population standard deviation is 2.9 inches. If we randomly select a sample of 50 adult men, the sample mean height will have a normal distribution with a mean equal to the population mean (69.2) and a standard deviation equal to the population standard deviation divided by the square root of the sample size (2.9 / sqrt(50) ≈ 0.41).\n",
        "\n",
        "We can use this information to calculate the probability that the sample mean height is greater than 70 inches. This probability is equivalent to the probability that a standard normal variable Z is greater than (70 - 69.2) / 0.41 ≈ 1.95.\n",
        "\n",
        "Using a standard normal table or a mathematical software package such as Python’s scipy library, we can find that this probability is approximately 0.026 or about 2.6%."
      ],
      "metadata": {
        "id": "J6SQRZMxay2K"
      }
    },
    {
      "cell_type": "code",
      "source": [
        "from scipy.stats import norm\n",
        "\n",
        "mu = 69.2\n",
        "sigma = 2.9\n",
        "n = 50\n",
        "x = 70\n",
        "\n",
        "z = (x - mu) / (sigma / (n ** 0.5))\n",
        "prob = 1 - norm.cdf(z)\n",
        "print(prob)"
      ],
      "metadata": {
        "colab": {
          "base_uri": "https://localhost:8080/"
        },
        "id": "iyh44wIvbH6w",
        "outputId": "14838c72-99ac-4ab9-cdda-dd20db5c0b82"
      },
      "execution_count": 17,
      "outputs": [
        {
          "output_type": "stream",
          "name": "stdout",
          "text": [
            "0.025549978630102443\n"
          ]
        }
      ]
    },
    {
      "cell_type": "markdown",
      "source": [
        "`Q-9` A company claims that the average salary of its employees is 75,000 with a standard deviation of 10,000. If you randomly select 100 employees, what is the probability that the sample mean salary is less than 72,500?\n"
      ],
      "metadata": {
        "id": "pt6dbVrBeG0x"
      }
    },
    {
      "cell_type": "markdown",
      "source": [
        "### Solution 9:\n",
        "\n",
        "This is a problem that can be solved using the central limit theorem. The central limit theorem states that the distribution of sample means approaches a normal distribution as the sample size increases, regardless of the shape of the population distribution.\n",
        "\n",
        "In this case, we are given that the population mean salary is 75,000 and the population standard deviation is 10,000. If we randomly select a sample of 100 employees, the sample mean salary will have a normal distribution with a mean equal to the population mean (75,000) and a standard deviation equal to the population standard deviation divided by the square root of the sample size (10,000 / sqrt(100) = 1,000).\n",
        "\n",
        "We can use this information to calculate the probability that the sample mean salary is less than 72,500. This probability is equivalent to the probability that a standard normal variable `Z` is less than (72,500 - 75,000) / 1,000 = -2.5.\n",
        "\n",
        "Here's a Python code snippet that uses the `scipy.stats.norm` module to calculate this probability:\n",
        "\n"
      ],
      "metadata": {
        "id": "Fb-_ATHLUb04"
      }
    },
    {
      "cell_type": "code",
      "source": [
        "from scipy.stats import norm\n",
        "\n",
        "mu = 75000\n",
        "sigma = 10000\n",
        "n = 100\n",
        "x = 72500\n",
        "\n",
        "z = (x - mu) / (sigma / (n ** 0.5))\n",
        "prob = norm.cdf(z)\n",
        "print(prob)"
      ],
      "metadata": {
        "colab": {
          "base_uri": "https://localhost:8080/"
        },
        "id": "lgbMxkaEUi9t",
        "outputId": "87ef0121-bf94-49be-9ff0-bd59b1e363b7"
      },
      "execution_count": 18,
      "outputs": [
        {
          "output_type": "stream",
          "name": "stdout",
          "text": [
            "0.006209665325776132\n"
          ]
        }
      ]
    },
    {
      "cell_type": "markdown",
      "source": [
        "`Q-10` A restaurant claims that the average wait time for a table is 15 minutes with a standard deviation of 3 minutes. If you randomly survey 50 customers, what is the probability that the sample mean wait time is greater than 16 minutes?"
      ],
      "metadata": {
        "id": "H4flJtOAePv_"
      }
    },
    {
      "cell_type": "markdown",
      "source": [
        "### Solution 10:\n",
        "\n",
        "In this case, we are given that the population mean wait time is 15 minutes and the population standard deviation is 3 minutes. If we randomly select a sample of 50 customers, the sample mean wait time will have a normal distribution with a mean equal to the population mean (15) and a standard deviation equal to the population standard deviation divided by the square root of the sample size (3 / sqrt(50) ≈ 0.424).\n",
        "\n",
        "We can use this information to calculate the probability that the sample mean wait time is greater than 16 minutes. This probability is equivalent to the probability that a standard normal variable `Z` is greater than (16 - 15) / 0.424 ≈ 2.36.\n",
        "\n",
        "Here's a Python code snippet that uses the `scipy.stats.norm` module to calculate this probability:\n"
      ],
      "metadata": {
        "id": "636hbb7qZTI6"
      }
    },
    {
      "cell_type": "code",
      "source": [
        "from scipy.stats import norm\n",
        "\n",
        "mu = 15\n",
        "sigma = 3\n",
        "n = 50\n",
        "x = 16\n",
        "\n",
        "z = (x - mu) / (sigma / (n ** 0.5))\n",
        "print(\"Z:\",z)\n",
        "prob = 1 - norm.cdf(z)\n",
        "print(prob)\n"
      ],
      "metadata": {
        "colab": {
          "base_uri": "https://localhost:8080/"
        },
        "id": "zwV9QaGOZZui",
        "outputId": "7b12d043-161f-46c9-cc90-350679aaae8d"
      },
      "execution_count": 19,
      "outputs": [
        {
          "output_type": "stream",
          "name": "stdout",
          "text": [
            "Z: 2.3570226039551585\n",
            "0.009211062727049524\n"
          ]
        }
      ]
    },
    {
      "cell_type": "markdown",
      "source": [
        "### `Q-11`: DataSet Link: https://www.kaggle.com/datasets/ruchi798/data-science-job-salaries\n",
        "\n",
        "* What is the average and standard deviation for the salary in our data set? Show the distribution of the salary (Histogram and kde both).\n",
        "* Now verify the dataset mean and std from using central limit theorem using following sample and sample size:\n",
        "\n",
        "    * i. 200 samples of size 30\n",
        "\n",
        "    * ii. 100 samples of size 50\n",
        "\n",
        "* Plot samples means distribution and show horizontal line for both mean value: Dataset mean value and means of sample mean.  "
      ],
      "metadata": {
        "id": "uwuAaoT-A-Ce"
      }
    },
    {
      "cell_type": "code",
      "source": [
        "# Solution\n",
        "\n",
        "import pandas as pd\n",
        "df = pd.read_csv('ds_salaries.csv', index_col = [0])\n",
        "df.head()"
      ],
      "metadata": {
        "colab": {
          "base_uri": "https://localhost:8080/",
          "height": 206
        },
        "id": "is7Lf9HCFBzM",
        "outputId": "c6993f0a-2ecf-4de0-86df-5c79efdae8d2"
      },
      "execution_count": 20,
      "outputs": [
        {
          "output_type": "execute_result",
          "data": {
            "text/plain": [
              "   work_year experience_level employment_type                   job_title  \\\n",
              "0       2020               MI              FT              Data Scientist   \n",
              "1       2020               SE              FT  Machine Learning Scientist   \n",
              "2       2020               SE              FT           Big Data Engineer   \n",
              "3       2020               MI              FT        Product Data Analyst   \n",
              "4       2020               SE              FT   Machine Learning Engineer   \n",
              "\n",
              "   salary salary_currency  salary_in_usd employee_residence  remote_ratio  \\\n",
              "0   70000             EUR          79833                 DE             0   \n",
              "1  260000             USD         260000                 JP             0   \n",
              "2   85000             GBP         109024                 GB            50   \n",
              "3   20000             USD          20000                 HN             0   \n",
              "4  150000             USD         150000                 US            50   \n",
              "\n",
              "  company_location company_size  \n",
              "0               DE            L  \n",
              "1               JP            S  \n",
              "2               GB            M  \n",
              "3               HN            S  \n",
              "4               US            L  "
            ],
            "text/html": [
              "\n",
              "  <div id=\"df-8df1a5b4-452a-475a-8c95-bae00080e885\">\n",
              "    <div class=\"colab-df-container\">\n",
              "      <div>\n",
              "<style scoped>\n",
              "    .dataframe tbody tr th:only-of-type {\n",
              "        vertical-align: middle;\n",
              "    }\n",
              "\n",
              "    .dataframe tbody tr th {\n",
              "        vertical-align: top;\n",
              "    }\n",
              "\n",
              "    .dataframe thead th {\n",
              "        text-align: right;\n",
              "    }\n",
              "</style>\n",
              "<table border=\"1\" class=\"dataframe\">\n",
              "  <thead>\n",
              "    <tr style=\"text-align: right;\">\n",
              "      <th></th>\n",
              "      <th>work_year</th>\n",
              "      <th>experience_level</th>\n",
              "      <th>employment_type</th>\n",
              "      <th>job_title</th>\n",
              "      <th>salary</th>\n",
              "      <th>salary_currency</th>\n",
              "      <th>salary_in_usd</th>\n",
              "      <th>employee_residence</th>\n",
              "      <th>remote_ratio</th>\n",
              "      <th>company_location</th>\n",
              "      <th>company_size</th>\n",
              "    </tr>\n",
              "  </thead>\n",
              "  <tbody>\n",
              "    <tr>\n",
              "      <th>0</th>\n",
              "      <td>2020</td>\n",
              "      <td>MI</td>\n",
              "      <td>FT</td>\n",
              "      <td>Data Scientist</td>\n",
              "      <td>70000</td>\n",
              "      <td>EUR</td>\n",
              "      <td>79833</td>\n",
              "      <td>DE</td>\n",
              "      <td>0</td>\n",
              "      <td>DE</td>\n",
              "      <td>L</td>\n",
              "    </tr>\n",
              "    <tr>\n",
              "      <th>1</th>\n",
              "      <td>2020</td>\n",
              "      <td>SE</td>\n",
              "      <td>FT</td>\n",
              "      <td>Machine Learning Scientist</td>\n",
              "      <td>260000</td>\n",
              "      <td>USD</td>\n",
              "      <td>260000</td>\n",
              "      <td>JP</td>\n",
              "      <td>0</td>\n",
              "      <td>JP</td>\n",
              "      <td>S</td>\n",
              "    </tr>\n",
              "    <tr>\n",
              "      <th>2</th>\n",
              "      <td>2020</td>\n",
              "      <td>SE</td>\n",
              "      <td>FT</td>\n",
              "      <td>Big Data Engineer</td>\n",
              "      <td>85000</td>\n",
              "      <td>GBP</td>\n",
              "      <td>109024</td>\n",
              "      <td>GB</td>\n",
              "      <td>50</td>\n",
              "      <td>GB</td>\n",
              "      <td>M</td>\n",
              "    </tr>\n",
              "    <tr>\n",
              "      <th>3</th>\n",
              "      <td>2020</td>\n",
              "      <td>MI</td>\n",
              "      <td>FT</td>\n",
              "      <td>Product Data Analyst</td>\n",
              "      <td>20000</td>\n",
              "      <td>USD</td>\n",
              "      <td>20000</td>\n",
              "      <td>HN</td>\n",
              "      <td>0</td>\n",
              "      <td>HN</td>\n",
              "      <td>S</td>\n",
              "    </tr>\n",
              "    <tr>\n",
              "      <th>4</th>\n",
              "      <td>2020</td>\n",
              "      <td>SE</td>\n",
              "      <td>FT</td>\n",
              "      <td>Machine Learning Engineer</td>\n",
              "      <td>150000</td>\n",
              "      <td>USD</td>\n",
              "      <td>150000</td>\n",
              "      <td>US</td>\n",
              "      <td>50</td>\n",
              "      <td>US</td>\n",
              "      <td>L</td>\n",
              "    </tr>\n",
              "  </tbody>\n",
              "</table>\n",
              "</div>\n",
              "      <button class=\"colab-df-convert\" onclick=\"convertToInteractive('df-8df1a5b4-452a-475a-8c95-bae00080e885')\"\n",
              "              title=\"Convert this dataframe to an interactive table.\"\n",
              "              style=\"display:none;\">\n",
              "        \n",
              "  <svg xmlns=\"http://www.w3.org/2000/svg\" height=\"24px\"viewBox=\"0 0 24 24\"\n",
              "       width=\"24px\">\n",
              "    <path d=\"M0 0h24v24H0V0z\" fill=\"none\"/>\n",
              "    <path d=\"M18.56 5.44l.94 2.06.94-2.06 2.06-.94-2.06-.94-.94-2.06-.94 2.06-2.06.94zm-11 1L8.5 8.5l.94-2.06 2.06-.94-2.06-.94L8.5 2.5l-.94 2.06-2.06.94zm10 10l.94 2.06.94-2.06 2.06-.94-2.06-.94-.94-2.06-.94 2.06-2.06.94z\"/><path d=\"M17.41 7.96l-1.37-1.37c-.4-.4-.92-.59-1.43-.59-.52 0-1.04.2-1.43.59L10.3 9.45l-7.72 7.72c-.78.78-.78 2.05 0 2.83L4 21.41c.39.39.9.59 1.41.59.51 0 1.02-.2 1.41-.59l7.78-7.78 2.81-2.81c.8-.78.8-2.07 0-2.86zM5.41 20L4 18.59l7.72-7.72 1.47 1.35L5.41 20z\"/>\n",
              "  </svg>\n",
              "      </button>\n",
              "      \n",
              "  <style>\n",
              "    .colab-df-container {\n",
              "      display:flex;\n",
              "      flex-wrap:wrap;\n",
              "      gap: 12px;\n",
              "    }\n",
              "\n",
              "    .colab-df-convert {\n",
              "      background-color: #E8F0FE;\n",
              "      border: none;\n",
              "      border-radius: 50%;\n",
              "      cursor: pointer;\n",
              "      display: none;\n",
              "      fill: #1967D2;\n",
              "      height: 32px;\n",
              "      padding: 0 0 0 0;\n",
              "      width: 32px;\n",
              "    }\n",
              "\n",
              "    .colab-df-convert:hover {\n",
              "      background-color: #E2EBFA;\n",
              "      box-shadow: 0px 1px 2px rgba(60, 64, 67, 0.3), 0px 1px 3px 1px rgba(60, 64, 67, 0.15);\n",
              "      fill: #174EA6;\n",
              "    }\n",
              "\n",
              "    [theme=dark] .colab-df-convert {\n",
              "      background-color: #3B4455;\n",
              "      fill: #D2E3FC;\n",
              "    }\n",
              "\n",
              "    [theme=dark] .colab-df-convert:hover {\n",
              "      background-color: #434B5C;\n",
              "      box-shadow: 0px 1px 3px 1px rgba(0, 0, 0, 0.15);\n",
              "      filter: drop-shadow(0px 1px 2px rgba(0, 0, 0, 0.3));\n",
              "      fill: #FFFFFF;\n",
              "    }\n",
              "  </style>\n",
              "\n",
              "      <script>\n",
              "        const buttonEl =\n",
              "          document.querySelector('#df-8df1a5b4-452a-475a-8c95-bae00080e885 button.colab-df-convert');\n",
              "        buttonEl.style.display =\n",
              "          google.colab.kernel.accessAllowed ? 'block' : 'none';\n",
              "\n",
              "        async function convertToInteractive(key) {\n",
              "          const element = document.querySelector('#df-8df1a5b4-452a-475a-8c95-bae00080e885');\n",
              "          const dataTable =\n",
              "            await google.colab.kernel.invokeFunction('convertToInteractive',\n",
              "                                                     [key], {});\n",
              "          if (!dataTable) return;\n",
              "\n",
              "          const docLinkHtml = 'Like what you see? Visit the ' +\n",
              "            '<a target=\"_blank\" href=https://colab.research.google.com/notebooks/data_table.ipynb>data table notebook</a>'\n",
              "            + ' to learn more about interactive tables.';\n",
              "          element.innerHTML = '';\n",
              "          dataTable['output_type'] = 'display_data';\n",
              "          await google.colab.output.renderOutput(dataTable, element);\n",
              "          const docLink = document.createElement('div');\n",
              "          docLink.innerHTML = docLinkHtml;\n",
              "          element.appendChild(docLink);\n",
              "        }\n",
              "      </script>\n",
              "    </div>\n",
              "  </div>\n",
              "  "
            ]
          },
          "metadata": {},
          "execution_count": 20
        }
      ]
    },
    {
      "cell_type": "code",
      "source": [
        "\n",
        "#  - Using Pandas\n",
        "print(\"Method 2 - Using Pandas\")\n",
        "print(f\"Mean: {df.salary_in_usd.mean()}\")\n",
        "print(f\"STD: {df.salary_in_usd.std()}\")"
      ],
      "metadata": {
        "colab": {
          "base_uri": "https://localhost:8080/"
        },
        "id": "OTyHSu-qFHOb",
        "outputId": "f5c81fff-2d5c-4a67-c888-26f69b0df061"
      },
      "execution_count": 21,
      "outputs": [
        {
          "output_type": "stream",
          "name": "stdout",
          "text": [
            "Method 2 - Using Pandas\n",
            "Mean: 112297.86985172982\n",
            "STD: 70957.25941139569\n"
          ]
        }
      ]
    },
    {
      "cell_type": "code",
      "source": [
        "import matplotlib.pyplot as plt\n",
        "import scipy.stats as stats\n",
        "import seaborn as sns\n",
        "import numpy as np"
      ],
      "metadata": {
        "id": "3u2KhXJQFcmM"
      },
      "execution_count": 22,
      "outputs": []
    },
    {
      "cell_type": "code",
      "source": [
        "\n",
        "sample_sizes = [30, 50]\n",
        "bin_count = 25\n",
        "total_samples = [200, 100]\n",
        "for sample_size, total_sample in zip(sample_sizes, total_samples):\n",
        "    # An empty list to store means of collected samples\n",
        "    list_of_sample_means = []\n",
        "    \n",
        "    for i in range(total_sample):\n",
        "        sample = df[\"salary_in_usd\"].sample(n = sample_size, replace = True)\n",
        "        sample_mean = sample.mean()\n",
        "        list_of_sample_means.append(sample_mean)\n",
        "    \n",
        "    plt.hist(list_of_sample_means, bins = bin_count)\n",
        "    plt.title(f\"Distribution of Mean of Salaries ({total_sample} Samples of {sample_size}).\")\n",
        "    plt.xlabel(\"Salary\")\n",
        "    plt.ylabel(\"Frequency\")\n",
        "    plt.axvline(x = np.mean(list_of_sample_means), label = 'Sample Mean', color = 'green')\n",
        "    plt.axvline(x = df[\"salary_in_usd\"].mean(), label = 'Population Mean', color = 'red')\n",
        "    plt.legend(loc = \"upper right\")\n",
        "    plt.show()"
      ],
      "metadata": {
        "colab": {
          "base_uri": "https://localhost:8080/",
          "height": 927
        },
        "id": "YjOXLVoLBBbO",
        "outputId": "d63ff365-0be4-46e3-f6db-4926a3052059"
      },
      "execution_count": 23,
      "outputs": [
        {
          "output_type": "display_data",
          "data": {
            "text/plain": [
              "<Figure size 640x480 with 1 Axes>"
            ],
            "image/png": "[encoded data removed]"
          },
          "metadata": {}
        },
        {
          "output_type": "display_data",
          "data": {
            "text/plain": [
              "<Figure size 640x480 with 1 Axes>"
            ],
            "image/png": "[encoded data removed]"
          },
          "metadata": {}
        }
      ]
    },
    {
      "cell_type": "code",
      "source": [],
      "metadata": {
        "id": "-_uxntoAF2fQ"
      },
      "execution_count": 23,
      "outputs": []
    }
  ]
}