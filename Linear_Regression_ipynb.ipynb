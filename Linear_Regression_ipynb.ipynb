{
  "nbformat": 4,
  "nbformat_minor": 0,
  "metadata": {
    "colab": {
      "provenance": [],
      "authorship_tag": "ABX9TyMjBH6FxUvoK5B0KXd3BEy8"
    },
    "kernelspec": {
      "name": "python3",
      "display_name": "Python 3"
    },
    "language_info": {
      "name": "python"
    }
  },
  "cells": [
    {
      "cell_type": "code",
      "execution_count": 67,
      "metadata": {
        "id": "UYZB_bGn3nqC"
      },
      "outputs": [],
      "source": [
        "import pandas as pd\n",
        "import numpy as np\n",
        "import matplotlib.pyplot as plt\n",
        "from sklearn.model_selection import train_test_split\n",
        "from sklearn.linear_model import LinearRegression\n",
        "from sklearn.metrics import mean_squared_error, r2_score\n",
        "from sklearn.preprocessing import OneHotEncoder"
      ]
    },
    {
      "cell_type": "code",
      "source": [
        "df = pd.read_csv('/content/city_day.csv')"
      ],
      "metadata": {
        "id": "_lxxs3pTMJoJ"
      },
      "execution_count": 22,
      "outputs": []
    },
    {
      "cell_type": "code",
      "source": [
        "df.shape"
      ],
      "metadata": {
        "colab": {
          "base_uri": "https://localhost:8080/"
        },
        "id": "9CVRS4JfOu7G",
        "outputId": "afea64a0-4d72-4b1a-97d2-6f1e53df3513"
      },
      "execution_count": 23,
      "outputs": [
        {
          "output_type": "execute_result",
          "data": {
            "text/plain": [
              "(29531, 16)"
            ]
          },
          "metadata": {},
          "execution_count": 23
        }
      ]
    },
    {
      "cell_type": "code",
      "source": [
        "df.nunique()"
      ],
      "metadata": {
        "colab": {
          "base_uri": "https://localhost:8080/"
        },
        "id": "GX_hcd8mQW70",
        "outputId": "7565964a-13fd-451d-bc57-2b14148e95ea"
      },
      "execution_count": 24,
      "outputs": [
        {
          "output_type": "execute_result",
          "data": {
            "text/plain": [
              "City             26\n",
              "Date           2009\n",
              "PM2.5         11716\n",
              "PM10          12571\n",
              "NO             5776\n",
              "NO2            7404\n",
              "NOx            8156\n",
              "NH3            5922\n",
              "CO             1779\n",
              "SO2            4761\n",
              "O3             7699\n",
              "Benzene        1873\n",
              "Toluene        3608\n",
              "Xylene         1561\n",
              "AQI             829\n",
              "AQI_Bucket        6\n",
              "dtype: int64"
            ]
          },
          "metadata": {},
          "execution_count": 24
        }
      ]
    },
    {
      "cell_type": "code",
      "source": [
        "df.describe()"
      ],
      "metadata": {
        "colab": {
          "base_uri": "https://localhost:8080/",
          "height": 364
        },
        "id": "Im6Cvxg2QlQ1",
        "outputId": "df2e7ad0-f7ec-4239-de4b-a61b68cd7d26"
      },
      "execution_count": 25,
      "outputs": [
        {
          "output_type": "execute_result",
          "data": {
            "text/plain": [
              "              PM2.5          PM10            NO           NO2           NOx  \\\n",
              "count  24933.000000  18391.000000  25949.000000  25946.000000  25346.000000   \n",
              "mean      67.450578    118.127103     17.574730     28.560659     32.309123   \n",
              "std       64.661449     90.605110     22.785846     24.474746     31.646011   \n",
              "min        0.040000      0.010000      0.020000      0.010000      0.000000   \n",
              "25%       28.820000     56.255000      5.630000     11.750000     12.820000   \n",
              "50%       48.570000     95.680000      9.890000     21.690000     23.520000   \n",
              "75%       80.590000    149.745000     19.950000     37.620000     40.127500   \n",
              "max      949.990000   1000.000000    390.680000    362.210000    467.630000   \n",
              "\n",
              "                NH3            CO           SO2            O3       Benzene  \\\n",
              "count  19203.000000  27472.000000  25677.000000  25509.000000  23908.000000   \n",
              "mean      23.483476      2.248598     14.531977     34.491430      3.280840   \n",
              "std       25.684275      6.962884     18.133775     21.694928     15.811136   \n",
              "min        0.010000      0.000000      0.010000      0.010000      0.000000   \n",
              "25%        8.580000      0.510000      5.670000     18.860000      0.120000   \n",
              "50%       15.850000      0.890000      9.160000     30.840000      1.070000   \n",
              "75%       30.020000      1.450000     15.220000     45.570000      3.080000   \n",
              "max      352.890000    175.810000    193.860000    257.730000    455.030000   \n",
              "\n",
              "            Toluene        Xylene           AQI  \n",
              "count  21490.000000  11422.000000  24850.000000  \n",
              "mean       8.700972      3.070128    166.463581  \n",
              "std       19.969164      6.323247    140.696585  \n",
              "min        0.000000      0.000000     13.000000  \n",
              "25%        0.600000      0.140000     81.000000  \n",
              "50%        2.970000      0.980000    118.000000  \n",
              "75%        9.150000      3.350000    208.000000  \n",
              "max      454.850000    170.370000   2049.000000  "
            ],
            "text/html": [
              "\n",
              "  <div id=\"df-0f201135-ae7d-4141-b0ee-9773fc9fe30e\">\n",
              "    <div class=\"colab-df-container\">\n",
              "      <div>\n",
              "<style scoped>\n",
              "    .dataframe tbody tr th:only-of-type {\n",
              "        vertical-align: middle;\n",
              "    }\n",
              "\n",
              "    .dataframe tbody tr th {\n",
              "        vertical-align: top;\n",
              "    }\n",
              "\n",
              "    .dataframe thead th {\n",
              "        text-align: right;\n",
              "    }\n",
              "</style>\n",
              "<table border=\"1\" class=\"dataframe\">\n",
              "  <thead>\n",
              "    <tr style=\"text-align: right;\">\n",
              "      <th></th>\n",
              "      <th>PM2.5</th>\n",
              "      <th>PM10</th>\n",
              "      <th>NO</th>\n",
              "      <th>NO2</th>\n",
              "      <th>NOx</th>\n",
              "      <th>NH3</th>\n",
              "      <th>CO</th>\n",
              "      <th>SO2</th>\n",
              "      <th>O3</th>\n",
              "      <th>Benzene</th>\n",
              "      <th>Toluene</th>\n",
              "      <th>Xylene</th>\n",
              "      <th>AQI</th>\n",
              "    </tr>\n",
              "  </thead>\n",
              "  <tbody>\n",
              "    <tr>\n",
              "      <th>count</th>\n",
              "      <td>24933.000000</td>\n",
              "      <td>18391.000000</td>\n",
              "      <td>25949.000000</td>\n",
              "      <td>25946.000000</td>\n",
              "      <td>25346.000000</td>\n",
              "      <td>19203.000000</td>\n",
              "      <td>27472.000000</td>\n",
              "      <td>25677.000000</td>\n",
              "      <td>25509.000000</td>\n",
              "      <td>23908.000000</td>\n",
              "      <td>21490.000000</td>\n",
              "      <td>11422.000000</td>\n",
              "      <td>24850.000000</td>\n",
              "    </tr>\n",
              "    <tr>\n",
              "      <th>mean</th>\n",
              "      <td>67.450578</td>\n",
              "      <td>118.127103</td>\n",
              "      <td>17.574730</td>\n",
              "      <td>28.560659</td>\n",
              "      <td>32.309123</td>\n",
              "      <td>23.483476</td>\n",
              "      <td>2.248598</td>\n",
              "      <td>14.531977</td>\n",
              "      <td>34.491430</td>\n",
              "      <td>3.280840</td>\n",
              "      <td>8.700972</td>\n",
              "      <td>3.070128</td>\n",
              "      <td>166.463581</td>\n",
              "    </tr>\n",
              "    <tr>\n",
              "      <th>std</th>\n",
              "      <td>64.661449</td>\n",
              "      <td>90.605110</td>\n",
              "      <td>22.785846</td>\n",
              "      <td>24.474746</td>\n",
              "      <td>31.646011</td>\n",
              "      <td>25.684275</td>\n",
              "      <td>6.962884</td>\n",
              "      <td>18.133775</td>\n",
              "      <td>21.694928</td>\n",
              "      <td>15.811136</td>\n",
              "      <td>19.969164</td>\n",
              "      <td>6.323247</td>\n",
              "      <td>140.696585</td>\n",
              "    </tr>\n",
              "    <tr>\n",
              "      <th>min</th>\n",
              "      <td>0.040000</td>\n",
              "      <td>0.010000</td>\n",
              "      <td>0.020000</td>\n",
              "      <td>0.010000</td>\n",
              "      <td>0.000000</td>\n",
              "      <td>0.010000</td>\n",
              "      <td>0.000000</td>\n",
              "      <td>0.010000</td>\n",
              "      <td>0.010000</td>\n",
              "      <td>0.000000</td>\n",
              "      <td>0.000000</td>\n",
              "      <td>0.000000</td>\n",
              "      <td>13.000000</td>\n",
              "    </tr>\n",
              "    <tr>\n",
              "      <th>25%</th>\n",
              "      <td>28.820000</td>\n",
              "      <td>56.255000</td>\n",
              "      <td>5.630000</td>\n",
              "      <td>11.750000</td>\n",
              "      <td>12.820000</td>\n",
              "      <td>8.580000</td>\n",
              "      <td>0.510000</td>\n",
              "      <td>5.670000</td>\n",
              "      <td>18.860000</td>\n",
              "      <td>0.120000</td>\n",
              "      <td>0.600000</td>\n",
              "      <td>0.140000</td>\n",
              "      <td>81.000000</td>\n",
              "    </tr>\n",
              "    <tr>\n",
              "      <th>50%</th>\n",
              "      <td>48.570000</td>\n",
              "      <td>95.680000</td>\n",
              "      <td>9.890000</td>\n",
              "      <td>21.690000</td>\n",
              "      <td>23.520000</td>\n",
              "      <td>15.850000</td>\n",
              "      <td>0.890000</td>\n",
              "      <td>9.160000</td>\n",
              "      <td>30.840000</td>\n",
              "      <td>1.070000</td>\n",
              "      <td>2.970000</td>\n",
              "      <td>0.980000</td>\n",
              "      <td>118.000000</td>\n",
              "    </tr>\n",
              "    <tr>\n",
              "      <th>75%</th>\n",
              "      <td>80.590000</td>\n",
              "      <td>149.745000</td>\n",
              "      <td>19.950000</td>\n",
              "      <td>37.620000</td>\n",
              "      <td>40.127500</td>\n",
              "      <td>30.020000</td>\n",
              "      <td>1.450000</td>\n",
              "      <td>15.220000</td>\n",
              "      <td>45.570000</td>\n",
              "      <td>3.080000</td>\n",
              "      <td>9.150000</td>\n",
              "      <td>3.350000</td>\n",
              "      <td>208.000000</td>\n",
              "    </tr>\n",
              "    <tr>\n",
              "      <th>max</th>\n",
              "      <td>949.990000</td>\n",
              "      <td>1000.000000</td>\n",
              "      <td>390.680000</td>\n",
              "      <td>362.210000</td>\n",
              "      <td>467.630000</td>\n",
              "      <td>352.890000</td>\n",
              "      <td>175.810000</td>\n",
              "      <td>193.860000</td>\n",
              "      <td>257.730000</td>\n",
              "      <td>455.030000</td>\n",
              "      <td>454.850000</td>\n",
              "      <td>170.370000</td>\n",
              "      <td>2049.000000</td>\n",
              "    </tr>\n",
              "  </tbody>\n",
              "</table>\n",
              "</div>\n",
              "      <button class=\"colab-df-convert\" onclick=\"convertToInteractive('df-0f201135-ae7d-4141-b0ee-9773fc9fe30e')\"\n",
              "              title=\"Convert this dataframe to an interactive table.\"\n",
              "              style=\"display:none;\">\n",
              "        \n",
              "  <svg xmlns=\"http://www.w3.org/2000/svg\" height=\"24px\"viewBox=\"0 0 24 24\"\n",
              "       width=\"24px\">\n",
              "    <path d=\"M0 0h24v24H0V0z\" fill=\"none\"/>\n",
              "    <path d=\"M18.56 5.44l.94 2.06.94-2.06 2.06-.94-2.06-.94-.94-2.06-.94 2.06-2.06.94zm-11 1L8.5 8.5l.94-2.06 2.06-.94-2.06-.94L8.5 2.5l-.94 2.06-2.06.94zm10 10l.94 2.06.94-2.06 2.06-.94-2.06-.94-.94-2.06-.94 2.06-2.06.94z\"/><path d=\"M17.41 7.96l-1.37-1.37c-.4-.4-.92-.59-1.43-.59-.52 0-1.04.2-1.43.59L10.3 9.45l-7.72 7.72c-.78.78-.78 2.05 0 2.83L4 21.41c.39.39.9.59 1.41.59.51 0 1.02-.2 1.41-.59l7.78-7.78 2.81-2.81c.8-.78.8-2.07 0-2.86zM5.41 20L4 18.59l7.72-7.72 1.47 1.35L5.41 20z\"/>\n",
              "  </svg>\n",
              "      </button>\n",
              "      \n",
              "  <style>\n",
              "    .colab-df-container {\n",
              "      display:flex;\n",
              "      flex-wrap:wrap;\n",
              "      gap: 12px;\n",
              "    }\n",
              "\n",
              "    .colab-df-convert {\n",
              "      background-color: #E8F0FE;\n",
              "      border: none;\n",
              "      border-radius: 50%;\n",
              "      cursor: pointer;\n",
              "      display: none;\n",
              "      fill: #1967D2;\n",
              "      height: 32px;\n",
              "      padding: 0 0 0 0;\n",
              "      width: 32px;\n",
              "    }\n",
              "\n",
              "    .colab-df-convert:hover {\n",
              "      background-color: #E2EBFA;\n",
              "      box-shadow: 0px 1px 2px rgba(60, 64, 67, 0.3), 0px 1px 3px 1px rgba(60, 64, 67, 0.15);\n",
              "      fill: #174EA6;\n",
              "    }\n",
              "\n",
              "    [theme=dark] .colab-df-convert {\n",
              "      background-color: #3B4455;\n",
              "      fill: #D2E3FC;\n",
              "    }\n",
              "\n",
              "    [theme=dark] .colab-df-convert:hover {\n",
              "      background-color: #434B5C;\n",
              "      box-shadow: 0px 1px 3px 1px rgba(0, 0, 0, 0.15);\n",
              "      filter: drop-shadow(0px 1px 2px rgba(0, 0, 0, 0.3));\n",
              "      fill: #FFFFFF;\n",
              "    }\n",
              "  </style>\n",
              "\n",
              "      <script>\n",
              "        const buttonEl =\n",
              "          document.querySelector('#df-0f201135-ae7d-4141-b0ee-9773fc9fe30e button.colab-df-convert');\n",
              "        buttonEl.style.display =\n",
              "          google.colab.kernel.accessAllowed ? 'block' : 'none';\n",
              "\n",
              "        async function convertToInteractive(key) {\n",
              "          const element = document.querySelector('#df-0f201135-ae7d-4141-b0ee-9773fc9fe30e');\n",
              "          const dataTable =\n",
              "            await google.colab.kernel.invokeFunction('convertToInteractive',\n",
              "                                                     [key], {});\n",
              "          if (!dataTable) return;\n",
              "\n",
              "          const docLinkHtml = 'Like what you see? Visit the ' +\n",
              "            '<a target=\"_blank\" href=https://colab.research.google.com/notebooks/data_table.ipynb>data table notebook</a>'\n",
              "            + ' to learn more about interactive tables.';\n",
              "          element.innerHTML = '';\n",
              "          dataTable['output_type'] = 'display_data';\n",
              "          await google.colab.output.renderOutput(dataTable, element);\n",
              "          const docLink = document.createElement('div');\n",
              "          docLink.innerHTML = docLinkHtml;\n",
              "          element.appendChild(docLink);\n",
              "        }\n",
              "      </script>\n",
              "    </div>\n",
              "  </div>\n",
              "  "
            ]
          },
          "metadata": {},
          "execution_count": 25
        }
      ]
    },
    {
      "cell_type": "code",
      "source": [
        "df.info()"
      ],
      "metadata": {
        "colab": {
          "base_uri": "https://localhost:8080/"
        },
        "id": "ve3dWkjqQlB-",
        "outputId": "bc6fe3ee-41ec-42d4-fbc8-3914e5482fb9"
      },
      "execution_count": 26,
      "outputs": [
        {
          "output_type": "stream",
          "name": "stdout",
          "text": [
            "<class 'pandas.core.frame.DataFrame'>\n",
            "RangeIndex: 29531 entries, 0 to 29530\n",
            "Data columns (total 16 columns):\n",
            " #   Column      Non-Null Count  Dtype  \n",
            "---  ------      --------------  -----  \n",
            " 0   City        29531 non-null  object \n",
            " 1   Date        29531 non-null  object \n",
            " 2   PM2.5       24933 non-null  float64\n",
            " 3   PM10        18391 non-null  float64\n",
            " 4   NO          25949 non-null  float64\n",
            " 5   NO2         25946 non-null  float64\n",
            " 6   NOx         25346 non-null  float64\n",
            " 7   NH3         19203 non-null  float64\n",
            " 8   CO          27472 non-null  float64\n",
            " 9   SO2         25677 non-null  float64\n",
            " 10  O3          25509 non-null  float64\n",
            " 11  Benzene     23908 non-null  float64\n",
            " 12  Toluene     21490 non-null  float64\n",
            " 13  Xylene      11422 non-null  float64\n",
            " 14  AQI         24850 non-null  float64\n",
            " 15  AQI_Bucket  24850 non-null  object \n",
            "dtypes: float64(13), object(3)\n",
            "memory usage: 3.6+ MB\n"
          ]
        }
      ]
    },
    {
      "cell_type": "code",
      "source": [
        "# Fill missing values in the target variable\n",
        "df['AQI'].fillna(df['AQI'].mean(), inplace=True)"
      ],
      "metadata": {
        "id": "l6n_7JuT-2k_"
      },
      "execution_count": 27,
      "outputs": []
    },
    {
      "cell_type": "code",
      "source": [
        "df.drop(['NH3', 'Benzene', 'Toluene', 'Xylene','AQI_Bucket'], axis=1, inplace=True)"
      ],
      "metadata": {
        "id": "JMp4Dz2K-77B"
      },
      "execution_count": 28,
      "outputs": []
    },
    {
      "cell_type": "code",
      "source": [
        "df.head()"
      ],
      "metadata": {
        "colab": {
          "base_uri": "https://localhost:8080/",
          "height": 357
        },
        "id": "xSj-vWL9_O0r",
        "outputId": "5254b50f-ffae-4d6d-d3c5-5497da9f7777"
      },
      "execution_count": 29,
      "outputs": [
        {
          "output_type": "execute_result",
          "data": {
            "text/plain": [
              "        City        Date  PM2.5  PM10     NO    NO2    NOx     CO    SO2  \\\n",
              "0  Ahmedabad  2015-01-01    NaN   NaN   0.92  18.22  17.15   0.92  27.64   \n",
              "1  Ahmedabad  2015-01-02    NaN   NaN   0.97  15.69  16.46   0.97  24.55   \n",
              "2  Ahmedabad  2015-01-03    NaN   NaN  17.40  19.30  29.70  17.40  29.07   \n",
              "3  Ahmedabad  2015-01-04    NaN   NaN   1.70  18.48  17.97   1.70  18.59   \n",
              "4  Ahmedabad  2015-01-05    NaN   NaN  22.10  21.42  37.76  22.10  39.33   \n",
              "\n",
              "       O3         AQI  \n",
              "0  133.36  166.463581  \n",
              "1   34.06  166.463581  \n",
              "2   30.70  166.463581  \n",
              "3   36.08  166.463581  \n",
              "4   39.31  166.463581  "
            ],
            "text/html": [
              "\n",
              "  <div id=\"df-571794f5-5641-4368-b5ca-4a606708d941\">\n",
              "    <div class=\"colab-df-container\">\n",
              "      <div>\n",
              "<style scoped>\n",
              "    .dataframe tbody tr th:only-of-type {\n",
              "        vertical-align: middle;\n",
              "    }\n",
              "\n",
              "    .dataframe tbody tr th {\n",
              "        vertical-align: top;\n",
              "    }\n",
              "\n",
              "    .dataframe thead th {\n",
              "        text-align: right;\n",
              "    }\n",
              "</style>\n",
              "<table border=\"1\" class=\"dataframe\">\n",
              "  <thead>\n",
              "    <tr style=\"text-align: right;\">\n",
              "      <th></th>\n",
              "      <th>City</th>\n",
              "      <th>Date</th>\n",
              "      <th>PM2.5</th>\n",
              "      <th>PM10</th>\n",
              "      <th>NO</th>\n",
              "      <th>NO2</th>\n",
              "      <th>NOx</th>\n",
              "      <th>CO</th>\n",
              "      <th>SO2</th>\n",
              "      <th>O3</th>\n",
              "      <th>AQI</th>\n",
              "    </tr>\n",
              "  </thead>\n",
              "  <tbody>\n",
              "    <tr>\n",
              "      <th>0</th>\n",
              "      <td>Ahmedabad</td>\n",
              "      <td>2015-01-01</td>\n",
              "      <td>NaN</td>\n",
              "      <td>NaN</td>\n",
              "      <td>0.92</td>\n",
              "      <td>18.22</td>\n",
              "      <td>17.15</td>\n",
              "      <td>0.92</td>\n",
              "      <td>27.64</td>\n",
              "      <td>133.36</td>\n",
              "      <td>166.463581</td>\n",
              "    </tr>\n",
              "    <tr>\n",
              "      <th>1</th>\n",
              "      <td>Ahmedabad</td>\n",
              "      <td>2015-01-02</td>\n",
              "      <td>NaN</td>\n",
              "      <td>NaN</td>\n",
              "      <td>0.97</td>\n",
              "      <td>15.69</td>\n",
              "      <td>16.46</td>\n",
              "      <td>0.97</td>\n",
              "      <td>24.55</td>\n",
              "      <td>34.06</td>\n",
              "      <td>166.463581</td>\n",
              "    </tr>\n",
              "    <tr>\n",
              "      <th>2</th>\n",
              "      <td>Ahmedabad</td>\n",
              "      <td>2015-01-03</td>\n",
              "      <td>NaN</td>\n",
              "      <td>NaN</td>\n",
              "      <td>17.40</td>\n",
              "      <td>19.30</td>\n",
              "      <td>29.70</td>\n",
              "      <td>17.40</td>\n",
              "      <td>29.07</td>\n",
              "      <td>30.70</td>\n",
              "      <td>166.463581</td>\n",
              "    </tr>\n",
              "    <tr>\n",
              "      <th>3</th>\n",
              "      <td>Ahmedabad</td>\n",
              "      <td>2015-01-04</td>\n",
              "      <td>NaN</td>\n",
              "      <td>NaN</td>\n",
              "      <td>1.70</td>\n",
              "      <td>18.48</td>\n",
              "      <td>17.97</td>\n",
              "      <td>1.70</td>\n",
              "      <td>18.59</td>\n",
              "      <td>36.08</td>\n",
              "      <td>166.463581</td>\n",
              "    </tr>\n",
              "    <tr>\n",
              "      <th>4</th>\n",
              "      <td>Ahmedabad</td>\n",
              "      <td>2015-01-05</td>\n",
              "      <td>NaN</td>\n",
              "      <td>NaN</td>\n",
              "      <td>22.10</td>\n",
              "      <td>21.42</td>\n",
              "      <td>37.76</td>\n",
              "      <td>22.10</td>\n",
              "      <td>39.33</td>\n",
              "      <td>39.31</td>\n",
              "      <td>166.463581</td>\n",
              "    </tr>\n",
              "  </tbody>\n",
              "</table>\n",
              "</div>\n",
              "      <button class=\"colab-df-convert\" onclick=\"convertToInteractive('df-571794f5-5641-4368-b5ca-4a606708d941')\"\n",
              "              title=\"Convert this dataframe to an interactive table.\"\n",
              "              style=\"display:none;\">\n",
              "        \n",
              "  <svg xmlns=\"http://www.w3.org/2000/svg\" height=\"24px\"viewBox=\"0 0 24 24\"\n",
              "       width=\"24px\">\n",
              "    <path d=\"M0 0h24v24H0V0z\" fill=\"none\"/>\n",
              "    <path d=\"M18.56 5.44l.94 2.06.94-2.06 2.06-.94-2.06-.94-.94-2.06-.94 2.06-2.06.94zm-11 1L8.5 8.5l.94-2.06 2.06-.94-2.06-.94L8.5 2.5l-.94 2.06-2.06.94zm10 10l.94 2.06.94-2.06 2.06-.94-2.06-.94-.94-2.06-.94 2.06-2.06.94z\"/><path d=\"M17.41 7.96l-1.37-1.37c-.4-.4-.92-.59-1.43-.59-.52 0-1.04.2-1.43.59L10.3 9.45l-7.72 7.72c-.78.78-.78 2.05 0 2.83L4 21.41c.39.39.9.59 1.41.59.51 0 1.02-.2 1.41-.59l7.78-7.78 2.81-2.81c.8-.78.8-2.07 0-2.86zM5.41 20L4 18.59l7.72-7.72 1.47 1.35L5.41 20z\"/>\n",
              "  </svg>\n",
              "      </button>\n",
              "      \n",
              "  <style>\n",
              "    .colab-df-container {\n",
              "      display:flex;\n",
              "      flex-wrap:wrap;\n",
              "      gap: 12px;\n",
              "    }\n",
              "\n",
              "    .colab-df-convert {\n",
              "      background-color: #E8F0FE;\n",
              "      border: none;\n",
              "      border-radius: 50%;\n",
              "      cursor: pointer;\n",
              "      display: none;\n",
              "      fill: #1967D2;\n",
              "      height: 32px;\n",
              "      padding: 0 0 0 0;\n",
              "      width: 32px;\n",
              "    }\n",
              "\n",
              "    .colab-df-convert:hover {\n",
              "      background-color: #E2EBFA;\n",
              "      box-shadow: 0px 1px 2px rgba(60, 64, 67, 0.3), 0px 1px 3px 1px rgba(60, 64, 67, 0.15);\n",
              "      fill: #174EA6;\n",
              "    }\n",
              "\n",
              "    [theme=dark] .colab-df-convert {\n",
              "      background-color: #3B4455;\n",
              "      fill: #D2E3FC;\n",
              "    }\n",
              "\n",
              "    [theme=dark] .colab-df-convert:hover {\n",
              "      background-color: #434B5C;\n",
              "      box-shadow: 0px 1px 3px 1px rgba(0, 0, 0, 0.15);\n",
              "      filter: drop-shadow(0px 1px 2px rgba(0, 0, 0, 0.3));\n",
              "      fill: #FFFFFF;\n",
              "    }\n",
              "  </style>\n",
              "\n",
              "      <script>\n",
              "        const buttonEl =\n",
              "          document.querySelector('#df-571794f5-5641-4368-b5ca-4a606708d941 button.colab-df-convert');\n",
              "        buttonEl.style.display =\n",
              "          google.colab.kernel.accessAllowed ? 'block' : 'none';\n",
              "\n",
              "        async function convertToInteractive(key) {\n",
              "          const element = document.querySelector('#df-571794f5-5641-4368-b5ca-4a606708d941');\n",
              "          const dataTable =\n",
              "            await google.colab.kernel.invokeFunction('convertToInteractive',\n",
              "                                                     [key], {});\n",
              "          if (!dataTable) return;\n",
              "\n",
              "          const docLinkHtml = 'Like what you see? Visit the ' +\n",
              "            '<a target=\"_blank\" href=https://colab.research.google.com/notebooks/data_table.ipynb>data table notebook</a>'\n",
              "            + ' to learn more about interactive tables.';\n",
              "          element.innerHTML = '';\n",
              "          dataTable['output_type'] = 'display_data';\n",
              "          await google.colab.output.renderOutput(dataTable, element);\n",
              "          const docLink = document.createElement('div');\n",
              "          docLink.innerHTML = docLinkHtml;\n",
              "          element.appendChild(docLink);\n",
              "        }\n",
              "      </script>\n",
              "    </div>\n",
              "  </div>\n",
              "  "
            ]
          },
          "metadata": {},
          "execution_count": 29
        }
      ]
    },
    {
      "cell_type": "code",
      "source": [
        "X = df[['PM2.5', 'PM10', 'NO', 'NO2', 'NOx', 'CO', 'SO2', 'O3']]\n",
        "y = df['AQI']"
      ],
      "metadata": {
        "id": "XwFYT1G1_ZI7"
      },
      "execution_count": 30,
      "outputs": []
    },
    {
      "cell_type": "code",
      "source": [
        "X_train, X_test, y_train, y_test = train_test_split(X,y,test_size=0.2,random_state=2)"
      ],
      "metadata": {
        "id": "Go3pkjXc_cEZ"
      },
      "execution_count": 31,
      "outputs": []
    },
    {
      "cell_type": "code",
      "source": [
        "# Fill missing values after splitting the data\n",
        "X_train.fillna(X_train.mean(), inplace=True)\n",
        "X_test.fillna(X_test.mean(), inplace=True)"
      ],
      "metadata": {
        "id": "8YEl-oqMnWvZ"
      },
      "execution_count": 32,
      "outputs": []
    },
    {
      "cell_type": "code",
      "source": [
        "print(X_train.shape)\n",
        "print(X_test.shape)"
      ],
      "metadata": {
        "colab": {
          "base_uri": "https://localhost:8080/"
        },
        "id": "WXfM5C8j_dMe",
        "outputId": "f1d3dd05-6cd7-472f-c7dc-3d35163b0987"
      },
      "execution_count": 33,
      "outputs": [
        {
          "output_type": "stream",
          "name": "stdout",
          "text": [
            "(23624, 8)\n",
            "(5907, 8)\n"
          ]
        }
      ]
    },
    {
      "cell_type": "code",
      "source": [
        "# Encode categorical variables if needed\n",
        "encoder = OneHotEncoder(handle_unknown='ignore')\n",
        "X_encoded = encoder.fit_transform(X)"
      ],
      "metadata": {
        "id": "PF5HcVryndmJ"
      },
      "execution_count": 39,
      "outputs": []
    },
    {
      "cell_type": "code",
      "source": [
        "reg = LinearRegression()"
      ],
      "metadata": {
        "id": "tXFXB2w2_jSd"
      },
      "execution_count": 40,
      "outputs": []
    },
    {
      "cell_type": "code",
      "source": [
        "reg.fit(X_train, y_train)"
      ],
      "metadata": {
        "colab": {
          "base_uri": "https://localhost:8080/",
          "height": 74
        },
        "id": "_BON4Qub_mX0",
        "outputId": "ab6e293c-811e-49e6-9f5d-87de1de99d5e"
      },
      "execution_count": 41,
      "outputs": [
        {
          "output_type": "execute_result",
          "data": {
            "text/plain": [
              "LinearRegression()"
            ],
            "text/html": [
              "<style>#sk-container-id-2 {color: black;background-color: white;}#sk-container-id-2 pre{padding: 0;}#sk-container-id-2 div.sk-toggleable {background-color: white;}#sk-container-id-2 label.sk-toggleable__label {cursor: pointer;display: block;width: 100%;margin-bottom: 0;padding: 0.3em;box-sizing: border-box;text-align: center;}#sk-container-id-2 label.sk-toggleable__label-arrow:before {content: \"▸\";float: left;margin-right: 0.25em;color: #696969;}#sk-container-id-2 label.sk-toggleable__label-arrow:hover:before {color: black;}#sk-container-id-2 div.sk-estimator:hover label.sk-toggleable__label-arrow:before {color: black;}#sk-container-id-2 div.sk-toggleable__content {max-height: 0;max-width: 0;overflow: hidden;text-align: left;background-color: #f0f8ff;}#sk-container-id-2 div.sk-toggleable__content pre {margin: 0.2em;color: black;border-radius: 0.25em;background-color: #f0f8ff;}#sk-container-id-2 input.sk-toggleable__control:checked~div.sk-toggleable__content {max-height: 200px;max-width: 100%;overflow: auto;}#sk-container-id-2 input.sk-toggleable__control:checked~label.sk-toggleable__label-arrow:before {content: \"▾\";}#sk-container-id-2 div.sk-estimator input.sk-toggleable__control:checked~label.sk-toggleable__label {background-color: #d4ebff;}#sk-container-id-2 div.sk-label input.sk-toggleable__control:checked~label.sk-toggleable__label {background-color: #d4ebff;}#sk-container-id-2 input.sk-hidden--visually {border: 0;clip: rect(1px 1px 1px 1px);clip: rect(1px, 1px, 1px, 1px);height: 1px;margin: -1px;overflow: hidden;padding: 0;position: absolute;width: 1px;}#sk-container-id-2 div.sk-estimator {font-family: monospace;background-color: #f0f8ff;border: 1px dotted black;border-radius: 0.25em;box-sizing: border-box;margin-bottom: 0.5em;}#sk-container-id-2 div.sk-estimator:hover {background-color: #d4ebff;}#sk-container-id-2 div.sk-parallel-item::after {content: \"\";width: 100%;border-bottom: 1px solid gray;flex-grow: 1;}#sk-container-id-2 div.sk-label:hover label.sk-toggleable__label {background-color: #d4ebff;}#sk-container-id-2 div.sk-serial::before {content: \"\";position: absolute;border-left: 1px solid gray;box-sizing: border-box;top: 0;bottom: 0;left: 50%;z-index: 0;}#sk-container-id-2 div.sk-serial {display: flex;flex-direction: column;align-items: center;background-color: white;padding-right: 0.2em;padding-left: 0.2em;position: relative;}#sk-container-id-2 div.sk-item {position: relative;z-index: 1;}#sk-container-id-2 div.sk-parallel {display: flex;align-items: stretch;justify-content: center;background-color: white;position: relative;}#sk-container-id-2 div.sk-item::before, #sk-container-id-2 div.sk-parallel-item::before {content: \"\";position: absolute;border-left: 1px solid gray;box-sizing: border-box;top: 0;bottom: 0;left: 50%;z-index: -1;}#sk-container-id-2 div.sk-parallel-item {display: flex;flex-direction: column;z-index: 1;position: relative;background-color: white;}#sk-container-id-2 div.sk-parallel-item:first-child::after {align-self: flex-end;width: 50%;}#sk-container-id-2 div.sk-parallel-item:last-child::after {align-self: flex-start;width: 50%;}#sk-container-id-2 div.sk-parallel-item:only-child::after {width: 0;}#sk-container-id-2 div.sk-dashed-wrapped {border: 1px dashed gray;margin: 0 0.4em 0.5em 0.4em;box-sizing: border-box;padding-bottom: 0.4em;background-color: white;}#sk-container-id-2 div.sk-label label {font-family: monospace;font-weight: bold;display: inline-block;line-height: 1.2em;}#sk-container-id-2 div.sk-label-container {text-align: center;}#sk-container-id-2 div.sk-container {/* jupyter's `normalize.less` sets `[hidden] { display: none; }` but bootstrap.min.css set `[hidden] { display: none !important; }` so we also need the `!important` here to be able to override the default hidden behavior on the sphinx rendered scikit-learn.org. See: https://github.com/scikit-learn/scikit-learn/issues/21755 */display: inline-block !important;position: relative;}#sk-container-id-2 div.sk-text-repr-fallback {display: none;}</style><div id=\"sk-container-id-2\" class=\"sk-top-container\"><div class=\"sk-text-repr-fallback\"><pre>LinearRegression()</pre><b>In a Jupyter environment, please rerun this cell to show the HTML representation or trust the notebook. <br />On GitHub, the HTML representation is unable to render, please try loading this page with nbviewer.org.</b></div><div class=\"sk-container\" hidden><div class=\"sk-item\"><div class=\"sk-estimator sk-toggleable\"><input class=\"sk-toggleable__control sk-hidden--visually\" id=\"sk-estimator-id-2\" type=\"checkbox\" checked><label for=\"sk-estimator-id-2\" class=\"sk-toggleable__label sk-toggleable__label-arrow\">LinearRegression</label><div class=\"sk-toggleable__content\"><pre>LinearRegression()</pre></div></div></div></div></div>"
            ]
          },
          "metadata": {},
          "execution_count": 41
        }
      ]
    },
    {
      "cell_type": "code",
      "source": [
        "y_pred = reg.predict(X_test)"
      ],
      "metadata": {
        "id": "4enP7B_____U"
      },
      "execution_count": 43,
      "outputs": []
    },
    {
      "cell_type": "code",
      "source": [
        "r2_score(y_test,y_pred)"
      ],
      "metadata": {
        "colab": {
          "base_uri": "https://localhost:8080/"
        },
        "id": "g_rv86KLAKCo",
        "outputId": "9ccd8a01-3521-4302-d35c-f840c913a413"
      },
      "execution_count": 44,
      "outputs": [
        {
          "output_type": "execute_result",
          "data": {
            "text/plain": [
              "0.79408101368113"
            ]
          },
          "metadata": {},
          "execution_count": 44
        }
      ]
    },
    {
      "cell_type": "code",
      "source": [
        "reg.coef_"
      ],
      "metadata": {
        "colab": {
          "base_uri": "https://localhost:8080/"
        },
        "id": "kO_ijUT3AjAn",
        "outputId": "dc54072e-9199-43b7-be00-548937d5965e"
      },
      "execution_count": 45,
      "outputs": [
        {
          "output_type": "execute_result",
          "data": {
            "text/plain": [
              "array([ 0.99276511,  0.26415241, -0.07027722,  0.40674534,  0.1465037 ,\n",
              "       10.23779984,  0.65622154,  0.19177475])"
            ]
          },
          "metadata": {},
          "execution_count": 45
        }
      ]
    },
    {
      "cell_type": "code",
      "source": [
        "reg.intercept_"
      ],
      "metadata": {
        "colab": {
          "base_uri": "https://localhost:8080/"
        },
        "id": "aYlDJtURApoM",
        "outputId": "d63157d1-57f2-4f5c-f66b-1541497bb753"
      },
      "execution_count": 46,
      "outputs": [
        {
          "output_type": "execute_result",
          "data": {
            "text/plain": [
              "14.211661775436397"
            ]
          },
          "metadata": {},
          "execution_count": 46
        }
      ]
    },
    {
      "cell_type": "code",
      "source": [
        "print(\"MSE\",mean_squared_error(y_test,y_pred))\n",
        "print(\"R2 score\",r2_score(y_test,y_pred))"
      ],
      "metadata": {
        "colab": {
          "base_uri": "https://localhost:8080/"
        },
        "id": "8F0FsHDvBDU0",
        "outputId": "d086e8ee-7b80-41f2-9c81-3e42860063c5"
      },
      "execution_count": 47,
      "outputs": [
        {
          "output_type": "stream",
          "name": "stdout",
          "text": [
            "MSE 3247.2871743817623\n",
            "R2 score 0.79408101368113\n"
          ]
        }
      ]
    },
    {
      "cell_type": "markdown",
      "source": [
        "## model Predictions "
      ],
      "metadata": {
        "id": "1fmBh6O1AxF2"
      }
    },
    {
      "cell_type": "code",
      "source": [
        "class MLR:\n",
        "    def __init__(self):\n",
        "        self.coef_ = None\n",
        "        self.intercept_ = None\n",
        "\n",
        "    def fit(self, X_train, y_train):\n",
        "        ones = np.ones((X_train.shape[0], 1))\n",
        "        X_train = np.hstack((ones, X_train))\n",
        "\n",
        "        # calculate the coefficients using the normal equation\n",
        "        XtX_inv = np.linalg.inv(X_train.T.dot(X_train))\n",
        "        betas = XtX_inv.dot(X_train.T).dot(y_train)\n",
        "        self.intercept_ = betas[0]\n",
        "        self.coef_ = betas[1:]\n",
        "        \n",
        "    def predict(self, X_test):\n",
        "        ones = np.ones((X_test.shape[0], 1))\n",
        "        X_test = np.hstack((ones, X_test))\n",
        "        y_pred = X_test.dot(np.concatenate(([self.intercept_], self.coef_)))\n",
        "        return y_pred\n",
        "\n"
      ],
      "metadata": {
        "id": "PK6hn2UPCHRE"
      },
      "execution_count": 58,
      "outputs": []
    },
    {
      "cell_type": "code",
      "source": [
        "lr = MLR()"
      ],
      "metadata": {
        "id": "RGzmfpy-GWrj"
      },
      "execution_count": 59,
      "outputs": []
    },
    {
      "cell_type": "code",
      "source": [
        "lr.fit(X_train,y_train)"
      ],
      "metadata": {
        "id": "S0FDPQIQIxIB"
      },
      "execution_count": 60,
      "outputs": []
    },
    {
      "cell_type": "code",
      "source": [
        "X_train.shape"
      ],
      "metadata": {
        "colab": {
          "base_uri": "https://localhost:8080/"
        },
        "id": "t_h8u73yLhUd",
        "outputId": "ae5950da-4a35-44a5-9ba5-4c95d0cbbb29"
      },
      "execution_count": 61,
      "outputs": [
        {
          "output_type": "execute_result",
          "data": {
            "text/plain": [
              "(23624, 8)"
            ]
          },
          "metadata": {},
          "execution_count": 61
        }
      ]
    },
    {
      "cell_type": "code",
      "source": [
        "y_pred = lr.predict(X_test)"
      ],
      "metadata": {
        "id": "C9hYBWADLy9y"
      },
      "execution_count": 62,
      "outputs": []
    },
    {
      "cell_type": "code",
      "source": [
        "r2_score(y_test,y_pred)"
      ],
      "metadata": {
        "colab": {
          "base_uri": "https://localhost:8080/"
        },
        "id": "sTLLrZ6xL2De",
        "outputId": "165ffa22-9711-46e3-8d91-7e360b578561"
      },
      "execution_count": 63,
      "outputs": [
        {
          "output_type": "execute_result",
          "data": {
            "text/plain": [
              "0.79408101368113"
            ]
          },
          "metadata": {},
          "execution_count": 63
        }
      ]
    },
    {
      "cell_type": "code",
      "source": [
        "lr.coef_"
      ],
      "metadata": {
        "colab": {
          "base_uri": "https://localhost:8080/"
        },
        "id": "WuPk1T5ZL5Cq",
        "outputId": "22536cb6-f6c6-4097-c482-13659c50b6f5"
      },
      "execution_count": 64,
      "outputs": [
        {
          "output_type": "execute_result",
          "data": {
            "text/plain": [
              "array([ 0.99276511,  0.26415241, -0.07027722,  0.40674534,  0.1465037 ,\n",
              "       10.23779984,  0.65622154,  0.19177475])"
            ]
          },
          "metadata": {},
          "execution_count": 64
        }
      ]
    },
    {
      "cell_type": "code",
      "source": [
        "lr.intercept_"
      ],
      "metadata": {
        "id": "KHD3-991L6YI",
        "outputId": "287be445-abb7-4f9d-a830-fa0700d0c084",
        "colab": {
          "base_uri": "https://localhost:8080/"
        }
      },
      "execution_count": 65,
      "outputs": [
        {
          "output_type": "execute_result",
          "data": {
            "text/plain": [
              "14.211661775436674"
            ]
          },
          "metadata": {},
          "execution_count": 65
        }
      ]
    },
    {
      "cell_type": "code",
      "source": [
        "y_pred = reg.predict(X_test)\n",
        "print(\"Linear Regression:\")\n",
        "print(\"R2 score:\", r2_score(y_test, y_pred))\n",
        "print(\"MSE:\", mean_squared_error(y_test, y_pred))\n",
        "\n",
        "# Custom MLR model\n",
        "lr = MLR()\n",
        "lr.fit(X_train, y_train)\n",
        "y_pred = lr.predict(X_test)\n",
        "print(\"\\nCustom MLR:\")\n",
        "print(\"R2 score:\", r2_score(y_test, y_pred))\n",
        "print(\"MSE:\", mean_squared_error(y_test, y_pred))\n",
        "print(\"Intercept:\", lr.intercept_)\n",
        "print(\"Coefficients:\", lr.coef_)"
      ],
      "metadata": {
        "colab": {
          "base_uri": "https://localhost:8080/"
        },
        "id": "0ywdTUnlqhys",
        "outputId": "73111217-b2aa-42a1-bd53-3644ceedc006"
      },
      "execution_count": 66,
      "outputs": [
        {
          "output_type": "stream",
          "name": "stdout",
          "text": [
            "Linear Regression:\n",
            "R2 score: 0.79408101368113\n",
            "MSE: 3247.2871743817623\n",
            "\n",
            "Custom MLR:\n",
            "R2 score: 0.79408101368113\n",
            "MSE: 3247.2871743817623\n",
            "Intercept: 14.211661775436674\n",
            "Coefficients: [ 0.99276511  0.26415241 -0.07027722  0.40674534  0.1465037  10.23779984\n",
            "  0.65622154  0.19177475]\n"
          ]
        }
      ]
    }
  ]
}