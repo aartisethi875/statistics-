{
  "nbformat": 4,
  "nbformat_minor": 0,
  "metadata": {
    "colab": {
      "provenance": []
    },
    "kernelspec": {
      "name": "python3",
      "display_name": "Python 3"
    },
    "language_info": {
      "name": "python"
    }
  },
  "cells": [
    {
      "cell_type": "code",
      "execution_count": 1,
      "metadata": {
        "id": "LA_C6nh0pk8k"
      },
      "outputs": [],
      "source": [
        "# use python to solve all the questions\n",
        "import numpy as np\n",
        "import matplotlib.pyplot as plt"
      ]
    },
    {
      "cell_type": "markdown",
      "source": [
        "#Q1. Given the vectors A = [1, 2, 3] and B = [4, 5, 6], calculate the element-wise product of the two vectors.\n",
        "\n",
        "\n"
      ],
      "metadata": {
        "id": "IGLazvbDOQyS"
      }
    },
    {
      "cell_type": "code",
      "source": [
        "\n",
        "# vectors A and B\n",
        "A = np.array([1,2,3])\n",
        "B = np.array([4,5,6])\n",
        "\n",
        "# calculating element-wise product of the vectors\n",
        "C = A * B\n",
        "\n",
        "print(\"element-wise product of the two vector is :\",C)"
      ],
      "metadata": {
        "id": "3RtkFjyXp93H",
        "colab": {
          "base_uri": "https://localhost:8080/"
        },
        "outputId": "5c447b87-2092-4071-c398-dcd17e5093a2"
      },
      "execution_count": 2,
      "outputs": [
        {
          "output_type": "stream",
          "name": "stdout",
          "text": [
            "element-wise product of the two vector is : [ 4 10 18]\n"
          ]
        }
      ]
    },
    {
      "cell_type": "markdown",
      "source": [
        "##Q2. Find the magnitude of the vector C = [2, -3, 1]."
      ],
      "metadata": {
        "id": "CHDSBXvlPeOP"
      }
    },
    {
      "cell_type": "code",
      "source": [
        "C = np.array([2,-3,1])\n",
        "magnitude = np.linalg.norm(C)\n",
        "print(magnitude)"
      ],
      "metadata": {
        "id": "uQoSMO8BPn8E",
        "colab": {
          "base_uri": "https://localhost:8080/"
        },
        "outputId": "1076b6eb-7e69-4b4e-abab-aa6976b9b2e6"
      },
      "execution_count": 3,
      "outputs": [
        {
          "output_type": "stream",
          "name": "stdout",
          "text": [
            "3.7416573867739413\n"
          ]
        }
      ]
    },
    {
      "cell_type": "markdown",
      "source": [
        "## Q3. Given the vectors D = [1, 2, 3] and E = [4, 5, 6], calculate the cosine of the angle between them."
      ],
      "metadata": {
        "id": "IJy0QLVzJ7ce"
      }
    },
    {
      "cell_type": "code",
      "source": [
        "# Given the vectors\n",
        "D = np.array([1,2,3])\n",
        "E = np.array([4,5,6])\n",
        "\n",
        "# # Calculating the dot product of vectors D and E\n",
        "dot_A = np.dot(D,E)\n",
        "\n",
        "# Calculating the magnitudes of vectors D and E\n",
        "vector_D = np.linalg.norm(D)\n",
        "vector_E = np.linalg.norm(E)\n",
        "\n",
        "# Calculating the cosine of the angle between vectors D and E\n",
        "cosine_angle = dot_A / (vector_D * vector_E)\n",
        "print(cosine_angle)"
      ],
      "metadata": {
        "colab": {
          "base_uri": "https://localhost:8080/"
        },
        "id": "Lx2TvTT5KAjk",
        "outputId": "03814249-1e28-4e4e-9c74-b58fbda72066"
      },
      "execution_count": 4,
      "outputs": [
        {
          "output_type": "stream",
          "name": "stdout",
          "text": [
            "0.9746318461970762\n"
          ]
        }
      ]
    },
    {
      "cell_type": "markdown",
      "source": [
        "## Q4. Given the vectors F = [1, 2, 3] and G = [4, 5, 6], calculate the cross product of the two vectors."
      ],
      "metadata": {
        "id": "I81fB9QKMBt9"
      }
    },
    {
      "cell_type": "code",
      "source": [
        "F = np.array([1,2,3])\n",
        "G = np.array([4,5,6])\n",
        "\n",
        "# calculate the cross product of the two vectors F and G.\n",
        "cross_product = np.cross(F,G)\n",
        "print(cross_product)"
      ],
      "metadata": {
        "colab": {
          "base_uri": "https://localhost:8080/"
        },
        "id": "ojbyfm-pMFq2",
        "outputId": "325ab742-21cb-4bd1-f29c-87a424ad708a"
      },
      "execution_count": 5,
      "outputs": [
        {
          "output_type": "stream",
          "name": "stdout",
          "text": [
            "[-3  6 -3]\n"
          ]
        }
      ]
    },
    {
      "cell_type": "markdown",
      "source": [
        "## Q5. Given the vector H = [2, 4, 6], shift the vector +1 unit in each dimension"
      ],
      "metadata": {
        "id": "eMuoKNdZM4ra"
      }
    },
    {
      "cell_type": "code",
      "source": [
        "H = np.array([2,4,6])\n",
        "\n",
        "# Shifting the vector by +1 unit in each dimension\n",
        "vector = H + 1\n",
        "print(vector)"
      ],
      "metadata": {
        "colab": {
          "base_uri": "https://localhost:8080/"
        },
        "id": "cu8xd5SnNGYj",
        "outputId": "dd78fdce-26b2-4344-c0d8-44e6127aac92"
      },
      "execution_count": 6,
      "outputs": [
        {
          "output_type": "stream",
          "name": "stdout",
          "text": [
            "[3 5 7]\n"
          ]
        }
      ]
    },
    {
      "cell_type": "markdown",
      "source": [
        "## Q6. Given the vectors I = [1, 2, 3] and J = [4, 5, 6], calculate the projection of vector I onto vector J.\n",
        "\n",
        "### The formula for calculating the projection of I onto J is:\n",
        "###projection of I onto J = (dot product of I and J / dot product of J and J) * J"
      ],
      "metadata": {
        "id": "ocjMu5X2Ns-q"
      }
    },
    {
      "cell_type": "code",
      "source": [
        "I = np.array([1,2,3])\n",
        "J = np.array([4,5,6])\n",
        "\n",
        "# Calculating the projection of vector I onto vector J\n",
        "pro_vector = (np.dot(I,J) / np.dot(J,J)) * J\n",
        "\n",
        "print(pro_vector)\n"
      ],
      "metadata": {
        "colab": {
          "base_uri": "https://localhost:8080/"
        },
        "id": "oxRZSsEeNwQj",
        "outputId": "0e95baa5-1ccc-4f39-9081-3b3a0d2d84d2"
      },
      "execution_count": 7,
      "outputs": [
        {
          "output_type": "stream",
          "name": "stdout",
          "text": [
            "[1.66233766 2.07792208 2.49350649]\n"
          ]
        }
      ]
    },
    {
      "cell_type": "markdown",
      "source": [
        "\n",
        "### Q7. Consider the 2D - position vector a = (1, 3). If b is the point (5, 4), find the vector `ab` and the vector sum `a + ab`. Provide a sketch plot.\n",
        "\n",
        "Note: Search for quiver, to plot an arrow."
      ],
      "metadata": {
        "id": "uiy9kFvwP_UD"
      }
    },
    {
      "cell_type": "code",
      "source": [
        "a = np.array([1,3])\n",
        "b = np.array([5,4])\n",
        "\n",
        "ab = b - a\n",
        "a_ab = a + ab\n",
        "\n",
        "# Plot the vectors\n",
        "plt.figure()\n",
        "plt.axhline(0, color='black', linewidth=0.5)\n",
        "plt.axvline(0, color='black', linewidth=0.5)\n",
        "plt.xlim(-1, 7)\n",
        "plt.ylim(-1, 7)\n",
        "\n",
        "plt.quiver(0, 0, a[0], a[1], angles='xy', scale_units='xy', scale=1, color='r', label='a')\n",
        "plt.quiver(a[0], a[1], ab[0], ab[1], angles='xy', scale_units='xy', scale=1, color='b', label='ab')\n",
        "plt.quiver(0, 0, a_ab[0], a_ab[1], angles='xy', scale_units='xy', scale=1, color='g', label='a+ab')\n",
        "\n",
        "plt.legend()\n",
        "plt.show()"
      ],
      "metadata": {
        "colab": {
          "base_uri": "https://localhost:8080/",
          "height": 435
        },
        "id": "HGLC_8IPQDdD",
        "outputId": "c7d2a2cb-8d51-4338-f3c9-40a9d33f685d"
      },
      "execution_count": 8,
      "outputs": [
        {
          "output_type": "display_data",
          "data": {
            "text/plain": [
              "<Figure size 640x480 with 1 Axes>"
            ],
            "image/png": "[encoded data removed]"
          },
          "metadata": {}
        }
      ]
    },
    {
      "cell_type": "markdown",
      "source": [
        "\n",
        "### Q8. Given two 2D vectors `u` and `v` where `u = [-1, 4]` and `v = [3, -2]`, find the dot product `u . v`, the angle between `u` and `v`, and the projection of `u` onto `v`.\n"
      ],
      "metadata": {
        "id": "SpexiCcsVtn4"
      }
    },
    {
      "cell_type": "code",
      "source": [
        "from numpy.ma.core import arccos\n",
        "u = np.array([-1,4])\n",
        "v = np.array([3,-2])\n",
        "\n",
        "# Calculate the dot product of u and v\n",
        "product_dot = np.dot(u,v)\n",
        "print(\"The dot product of u and v is:\", product_dot)\n",
        "\n",
        "# calculate the magnitude of u and v\n",
        "\n",
        "product_u = np.linalg.norm(u)\n",
        "product_v = np.linalg.norm(v)\n",
        "\n",
        "# Calculate the angle between u and v\n",
        "angle = np.arccos(product_dot / (product_u * product_v))\n",
        "angle_degrees = np.degrees(angle)\n",
        "print(\"The angle between u and v is:\", angle_degrees, \"degrees\")\n",
        "\n",
        "# Calculate the projection of u onto v\n",
        "projection = (np.dot(u, v) / np.dot(v, v)) * v\n",
        "print(\"The projection of u onto v is:\", projection)"
      ],
      "metadata": {
        "colab": {
          "base_uri": "https://localhost:8080/"
        },
        "id": "GAFmztABVvSt",
        "outputId": "08c6c590-36b8-4685-9d18-46f287efdd54"
      },
      "execution_count": 9,
      "outputs": [
        {
          "output_type": "stream",
          "name": "stdout",
          "text": [
            "The dot product of u and v is: -11\n",
            "The angle between u and v is: 137.72631099390628 degrees\n",
            "The projection of u onto v is: [-2.53846154  1.69230769]\n"
          ]
        }
      ]
    },
    {
      "cell_type": "markdown",
      "source": [
        "## Q9. Given a hyperplane defined by the equation 3x - 2y + z = 1, find two different points that lie on this hyperplane.\n",
        "\n",
        "### Let's choose x = 0 and y = 0. Then the equation becomes:\n",
        "\n",
        "###3(0) - 2(0) + z = 1\n",
        "\n",
        "###Simplifying, we get:\n",
        "\n",
        "###z = 1\n",
        "\n",
        "###So the point (0, 0, 1) lies on the hyperplane.\n",
        "\n",
        "###Now let's choose x = 1 and y = 0. Then the equation becomes:\n",
        "\n",
        "###3(1) - 2(0) + z = 1\n",
        "\n",
        "###Simplifying, we get:\n",
        "\n",
        "###z = -2\n",
        "\n",
        "###So the point (1, 0, -2) also lies on the hyperplane."
      ],
      "metadata": {
        "id": "RG0A_0QuYL8R"
      }
    },
    {
      "cell_type": "markdown",
      "source": [
        "### Q10. Find a nearest point from a given array of points to a point P1.\n",
        "P1 - (3,9,3)\n",
        "\n",
        "Array of points :\n",
        "``` \n",
        "[[1, 8, 5],\n",
        "[8, 8, 2],\n",
        "[7, 9, 1],\n",
        "[5, 6, 3],\n",
        "[9, 1, 2],\n",
        "[6, 5, 9],\n",
        "[5, 8, 6],\n",
        "[3, 4, 8],\n",
        "[6, 8, 4],\n",
        "[7, 2, 7]]\n",
        "```"
      ],
      "metadata": {
        "id": "ZLssbmvqZwDr"
      }
    },
    {
      "cell_type": "code",
      "source": [
        "p1 = np.array([3,9,3])\n",
        "points = np.array([[1, 8, 5],\n",
        "                   [8, 8, 2],\n",
        "                   [7, 9, 1],\n",
        "                   [5, 6, 3],\n",
        "                   [9, 1, 2],\n",
        "                   [6, 5, 9],\n",
        "                   [5, 8, 6],\n",
        "                   [3, 4, 8],\n",
        "                   [6, 8, 4],\n",
        "                   [7, 2, 7]])\n",
        "\n",
        "distances = np.sqrt(np.sum((points - p1)**2, axis=1))\n",
        "\n",
        "# Find the index of the nearest point\n",
        "nearest_index = np.argmin(distances)\n",
        "\n",
        "# Find the nearest point\n",
        "nearest_point = points[nearest_index]\n",
        "\n",
        "print(\"Nearest point to P1 is:\", nearest_point)"
      ],
      "metadata": {
        "colab": {
          "base_uri": "https://localhost:8080/"
        },
        "id": "dsCP9fxiZfUc",
        "outputId": "e62987ef-65a3-49ee-e803-72f0363744a1"
      },
      "execution_count": 10,
      "outputs": [
        {
          "output_type": "stream",
          "name": "stdout",
          "text": [
            "Nearest point to P1 is: [1 8 5]\n"
          ]
        }
      ]
    },
    {
      "cell_type": "code",
      "source": [
        "# Define a 3x3 matrix\n",
        "matrix = np.array([[1, 2, 3], [4, 5, 6], [7, 8, 9]])\n",
        "\n",
        "# Define a result array with a shape of (3, 1)\n",
        "result = np.array([[10], [11], [12]])\n",
        "\n",
        "# Concatenate the matrix and result arrays along the second axis\n",
        "augmented_matrix = np.concatenate((matrix, result), axis=1)\n",
        "\n",
        "# Print the augmented matrix\n",
        "print(augmented_matrix)"
      ],
      "metadata": {
        "colab": {
          "base_uri": "https://localhost:8080/"
        },
        "id": "NyZ0ct8pFe24",
        "outputId": "29688edb-ee75-485d-85f1-79cd808eff15"
      },
      "execution_count": 15,
      "outputs": [
        {
          "output_type": "stream",
          "name": "stdout",
          "text": [
            "[[ 1  2  3 10]\n",
            " [ 4  5  6 11]\n",
            " [ 7  8  9 12]]\n"
          ]
        }
      ]
    }
  ]
}